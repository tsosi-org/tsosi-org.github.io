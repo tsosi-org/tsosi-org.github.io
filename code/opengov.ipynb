{
 "cells": [
  {
   "cell_type": "code",
   "execution_count": 27,
   "metadata": {},
   "outputs": [],
   "source": [
    "import requests\n",
    "from bs4 import BeautifulSoup\n",
    "from dataclasses import dataclass, asdict\n",
    "import pycountry\n",
    "from datetime import date\n",
    "import json\n",
    "\n",
    "@dataclass\n",
    "class Member:\n",
    "    region: str\n",
    "    iso_code_3: str\n",
    "    iso_code_2: str\n",
    "    participating: bool\n",
    "    name_en: str\n",
    "\n",
    "opengov_members: list[Member] = []\n",
    "\n",
    "url = \"https://www.opengovpartnership.org/members\"\n",
    "\n",
    "response = requests.get(url, timeout=10)\n",
    "\n",
    "if response.status_code < 200 or response.status_code > 300:\n",
    "    raise Exception(f\"Wrong status code: {response.status_code}\")\n",
    "\n",
    "soup = BeautifulSoup(response.content, \"html.parser\")\n",
    "\n",
    "member_tags =  soup.find_all(\"li\", class_=\"js-member\")\n",
    "\n",
    "country_mapping = {\n",
    "    c.alpha_3: c.alpha_2 for c in pycountry.countries\n",
    "}\n",
    "\n",
    "for member_tag in member_tags:\n",
    "    iso_code_3 = member_tag.get(\"data-code\") \n",
    "    opengov_members.append(Member(\n",
    "        region=member_tag.get(\"data-region\"),\n",
    "        iso_code_3=iso_code_3,\n",
    "        iso_code_2=country_mapping.get(iso_code_3),\n",
    "        participating= member_tag.get(\"data-participating\", \"\").strip() == \"active\",\n",
    "        name_en=member_tag.text.strip()\n",
    "    ))\n",
    "\n",
    "with open(f\"{date.today().strftime(\"%Y-%m-%d\")}-opengov-members.json\", \"w\") as f:\n",
    "    json.dump([asdict(m) for m in opengov_members], f, indent=2)"
   ]
  }
 ],
 "metadata": {
  "kernelspec": {
   "display_name": "venv",
   "language": "python",
   "name": "python3"
  },
  "language_info": {
   "codemirror_mode": {
    "name": "ipython",
    "version": 3
   },
   "file_extension": ".py",
   "mimetype": "text/x-python",
   "name": "python",
   "nbconvert_exporter": "python",
   "pygments_lexer": "ipython3",
   "version": "3.12.3"
  }
 },
 "nbformat": 4,
 "nbformat_minor": 2
}
